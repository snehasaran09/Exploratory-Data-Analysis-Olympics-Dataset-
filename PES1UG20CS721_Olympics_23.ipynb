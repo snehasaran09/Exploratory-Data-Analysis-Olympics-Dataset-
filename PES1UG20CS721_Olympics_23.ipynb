{
 "cells": [
  {
   "cell_type": "markdown",
   "metadata": {},
   "source": [
    "# Importing Libraries "
   ]
  },
  {
   "cell_type": "code",
   "execution_count": 6,
   "metadata": {},
   "outputs": [],
   "source": [
    "import numpy as np \n",
    "import pandas as pd \n",
    "import matplotlib.pyplot as plt\n",
    "import seaborn as sns"
   ]
  },
  {
   "cell_type": "markdown",
   "metadata": {},
   "source": [
    "# Introductory Questions"
   ]
  },
  {
   "cell_type": "markdown",
   "metadata": {},
   "source": [
    "# Question 1 - Data Cleaning "
   ]
  },
  {
   "cell_type": "code",
   "execution_count": 7,
   "metadata": {},
   "outputs": [
    {
     "data": {
      "text/html": [
       "<div>\n",
       "<style scoped>\n",
       "    .dataframe tbody tr th:only-of-type {\n",
       "        vertical-align: middle;\n",
       "    }\n",
       "\n",
       "    .dataframe tbody tr th {\n",
       "        vertical-align: top;\n",
       "    }\n",
       "\n",
       "    .dataframe thead th {\n",
       "        text-align: right;\n",
       "    }\n",
       "</style>\n",
       "<table border=\"1\" class=\"dataframe\">\n",
       "  <thead>\n",
       "    <tr style=\"text-align: right;\">\n",
       "      <th></th>\n",
       "      <th>ID</th>\n",
       "      <th>Name</th>\n",
       "      <th>Sex</th>\n",
       "      <th>Age</th>\n",
       "      <th>Height</th>\n",
       "      <th>Weight</th>\n",
       "      <th>Team</th>\n",
       "      <th>NOC</th>\n",
       "      <th>Games</th>\n",
       "      <th>Year</th>\n",
       "      <th>Season</th>\n",
       "      <th>City</th>\n",
       "      <th>Sport</th>\n",
       "      <th>Event</th>\n",
       "      <th>Medal</th>\n",
       "    </tr>\n",
       "  </thead>\n",
       "  <tbody>\n",
       "    <tr>\n",
       "      <th>0</th>\n",
       "      <td>72</td>\n",
       "      <td>Aleksey Aleksandrovich Abalmasov</td>\n",
       "      <td>M</td>\n",
       "      <td>28.0</td>\n",
       "      <td>180.0</td>\n",
       "      <td>83.0</td>\n",
       "      <td>Belarus</td>\n",
       "      <td>BLR</td>\n",
       "      <td>2008 Summer</td>\n",
       "      <td>2008</td>\n",
       "      <td>Summer</td>\n",
       "      <td>Beijing</td>\n",
       "      <td>Canoeing</td>\n",
       "      <td>Canoeing Men's Kayak Fours, 1,000 metres</td>\n",
       "      <td>Gold</td>\n",
       "    </tr>\n",
       "    <tr>\n",
       "      <th>1</th>\n",
       "      <td>507</td>\n",
       "      <td>Attila brahm</td>\n",
       "      <td>M</td>\n",
       "      <td>21.0</td>\n",
       "      <td>192.0</td>\n",
       "      <td>88.0</td>\n",
       "      <td>Hungary</td>\n",
       "      <td>HUN</td>\n",
       "      <td>1988 Summer</td>\n",
       "      <td>1988</td>\n",
       "      <td>Summer</td>\n",
       "      <td>Seoul</td>\n",
       "      <td>Canoeing</td>\n",
       "      <td>Canoeing Men's Kayak Doubles, 500 metres</td>\n",
       "      <td>Bronze</td>\n",
       "    </tr>\n",
       "    <tr>\n",
       "      <th>2</th>\n",
       "      <td>507</td>\n",
       "      <td>Attila brahm</td>\n",
       "      <td>M</td>\n",
       "      <td>21.0</td>\n",
       "      <td>192.0</td>\n",
       "      <td>88.0</td>\n",
       "      <td>Hungary</td>\n",
       "      <td>HUN</td>\n",
       "      <td>1988 Summer</td>\n",
       "      <td>1988</td>\n",
       "      <td>Summer</td>\n",
       "      <td>Seoul</td>\n",
       "      <td>Canoeing</td>\n",
       "      <td>Canoeing Men's Kayak Fours, 1,000 metres</td>\n",
       "      <td>Gold</td>\n",
       "    </tr>\n",
       "    <tr>\n",
       "      <th>3</th>\n",
       "      <td>507</td>\n",
       "      <td>Attila brahm</td>\n",
       "      <td>M</td>\n",
       "      <td>25.0</td>\n",
       "      <td>192.0</td>\n",
       "      <td>88.0</td>\n",
       "      <td>Hungary</td>\n",
       "      <td>HUN</td>\n",
       "      <td>1992 Summer</td>\n",
       "      <td>1992</td>\n",
       "      <td>Summer</td>\n",
       "      <td>Barcelona</td>\n",
       "      <td>Canoeing</td>\n",
       "      <td>Canoeing Men's Kayak Fours, 1,000 metres</td>\n",
       "      <td>Silver</td>\n",
       "    </tr>\n",
       "    <tr>\n",
       "      <th>4</th>\n",
       "      <td>953</td>\n",
       "      <td>Franck Adisson</td>\n",
       "      <td>M</td>\n",
       "      <td>23.0</td>\n",
       "      <td>180.0</td>\n",
       "      <td>70.0</td>\n",
       "      <td>France-1</td>\n",
       "      <td>FRA</td>\n",
       "      <td>1992 Summer</td>\n",
       "      <td>1992</td>\n",
       "      <td>Summer</td>\n",
       "      <td>Barcelona</td>\n",
       "      <td>Canoeing</td>\n",
       "      <td>Canoeing Men's Canadian Doubles, Slalom</td>\n",
       "      <td>Bronze</td>\n",
       "    </tr>\n",
       "    <tr>\n",
       "      <th>...</th>\n",
       "      <td>...</td>\n",
       "      <td>...</td>\n",
       "      <td>...</td>\n",
       "      <td>...</td>\n",
       "      <td>...</td>\n",
       "      <td>...</td>\n",
       "      <td>...</td>\n",
       "      <td>...</td>\n",
       "      <td>...</td>\n",
       "      <td>...</td>\n",
       "      <td>...</td>\n",
       "      <td>...</td>\n",
       "      <td>...</td>\n",
       "      <td>...</td>\n",
       "      <td>...</td>\n",
       "    </tr>\n",
       "    <tr>\n",
       "      <th>1036</th>\n",
       "      <td>135018</td>\n",
       "      <td>Annemarie Zimmermann</td>\n",
       "      <td>F</td>\n",
       "      <td>24.0</td>\n",
       "      <td>170.0</td>\n",
       "      <td>65.0</td>\n",
       "      <td>Germany</td>\n",
       "      <td>GER</td>\n",
       "      <td>1964 Summer</td>\n",
       "      <td>1964</td>\n",
       "      <td>Summer</td>\n",
       "      <td>Tokyo</td>\n",
       "      <td>Canoeing</td>\n",
       "      <td>Canoeing Women's Kayak Doubles, 500 metres</td>\n",
       "      <td>Gold</td>\n",
       "    </tr>\n",
       "    <tr>\n",
       "      <th>1037</th>\n",
       "      <td>135018</td>\n",
       "      <td>Annemarie Zimmermann</td>\n",
       "      <td>F</td>\n",
       "      <td>28.0</td>\n",
       "      <td>170.0</td>\n",
       "      <td>65.0</td>\n",
       "      <td>West Germany</td>\n",
       "      <td>FRG</td>\n",
       "      <td>1968 Summer</td>\n",
       "      <td>1968</td>\n",
       "      <td>Summer</td>\n",
       "      <td>Mexico City</td>\n",
       "      <td>Canoeing</td>\n",
       "      <td>Canoeing Women's Kayak Doubles, 500 metres</td>\n",
       "      <td>Gold</td>\n",
       "    </tr>\n",
       "    <tr>\n",
       "      <th>1038</th>\n",
       "      <td>135109</td>\n",
       "      <td>Carola Zirzow (-Drechsler)</td>\n",
       "      <td>F</td>\n",
       "      <td>21.0</td>\n",
       "      <td>178.0</td>\n",
       "      <td>78.0</td>\n",
       "      <td>East Germany</td>\n",
       "      <td>GDR</td>\n",
       "      <td>1976 Summer</td>\n",
       "      <td>1976</td>\n",
       "      <td>Summer</td>\n",
       "      <td>Montreal</td>\n",
       "      <td>Canoeing</td>\n",
       "      <td>Canoeing Women's Kayak Singles, 500 metres</td>\n",
       "      <td>Gold</td>\n",
       "    </tr>\n",
       "    <tr>\n",
       "      <th>1039</th>\n",
       "      <td>135109</td>\n",
       "      <td>Carola Zirzow (-Drechsler)</td>\n",
       "      <td>F</td>\n",
       "      <td>21.0</td>\n",
       "      <td>178.0</td>\n",
       "      <td>78.0</td>\n",
       "      <td>East Germany</td>\n",
       "      <td>GDR</td>\n",
       "      <td>1976 Summer</td>\n",
       "      <td>1976</td>\n",
       "      <td>Summer</td>\n",
       "      <td>Montreal</td>\n",
       "      <td>Canoeing</td>\n",
       "      <td>Canoeing Women's Kayak Doubles, 500 metres</td>\n",
       "      <td>Bronze</td>\n",
       "    </tr>\n",
       "    <tr>\n",
       "      <th>1040</th>\n",
       "      <td>135245</td>\n",
       "      <td>Milenko Zori</td>\n",
       "      <td>M</td>\n",
       "      <td>27.0</td>\n",
       "      <td>179.0</td>\n",
       "      <td>73.0</td>\n",
       "      <td>Serbia</td>\n",
       "      <td>SRB</td>\n",
       "      <td>2016 Summer</td>\n",
       "      <td>2016</td>\n",
       "      <td>Summer</td>\n",
       "      <td>Rio de Janeiro</td>\n",
       "      <td>Canoeing</td>\n",
       "      <td>Canoeing Men's Kayak Doubles, 1,000 metres</td>\n",
       "      <td>Silver</td>\n",
       "    </tr>\n",
       "  </tbody>\n",
       "</table>\n",
       "<p>1041 rows × 15 columns</p>\n",
       "</div>"
      ],
      "text/plain": [
       "          ID                              Name Sex   Age  Height  Weight  \\\n",
       "0         72  Aleksey Aleksandrovich Abalmasov   M  28.0   180.0    83.0   \n",
       "1        507                      Attila brahm   M  21.0   192.0    88.0   \n",
       "2        507                      Attila brahm   M  21.0   192.0    88.0   \n",
       "3        507                      Attila brahm   M  25.0   192.0    88.0   \n",
       "4        953                    Franck Adisson   M  23.0   180.0    70.0   \n",
       "...      ...                               ...  ..   ...     ...     ...   \n",
       "1036  135018              Annemarie Zimmermann   F  24.0   170.0    65.0   \n",
       "1037  135018              Annemarie Zimmermann   F  28.0   170.0    65.0   \n",
       "1038  135109        Carola Zirzow (-Drechsler)   F  21.0   178.0    78.0   \n",
       "1039  135109        Carola Zirzow (-Drechsler)   F  21.0   178.0    78.0   \n",
       "1040  135245                      Milenko Zori   M  27.0   179.0    73.0   \n",
       "\n",
       "              Team  NOC        Games  Year  Season            City     Sport  \\\n",
       "0          Belarus  BLR  2008 Summer  2008  Summer         Beijing  Canoeing   \n",
       "1          Hungary  HUN  1988 Summer  1988  Summer           Seoul  Canoeing   \n",
       "2          Hungary  HUN  1988 Summer  1988  Summer           Seoul  Canoeing   \n",
       "3          Hungary  HUN  1992 Summer  1992  Summer       Barcelona  Canoeing   \n",
       "4         France-1  FRA  1992 Summer  1992  Summer       Barcelona  Canoeing   \n",
       "...            ...  ...          ...   ...     ...             ...       ...   \n",
       "1036       Germany  GER  1964 Summer  1964  Summer           Tokyo  Canoeing   \n",
       "1037  West Germany  FRG  1968 Summer  1968  Summer     Mexico City  Canoeing   \n",
       "1038  East Germany  GDR  1976 Summer  1976  Summer        Montreal  Canoeing   \n",
       "1039  East Germany  GDR  1976 Summer  1976  Summer        Montreal  Canoeing   \n",
       "1040        Serbia  SRB  2016 Summer  2016  Summer  Rio de Janeiro  Canoeing   \n",
       "\n",
       "                                           Event   Medal  \n",
       "0       Canoeing Men's Kayak Fours, 1,000 metres    Gold  \n",
       "1       Canoeing Men's Kayak Doubles, 500 metres  Bronze  \n",
       "2       Canoeing Men's Kayak Fours, 1,000 metres    Gold  \n",
       "3       Canoeing Men's Kayak Fours, 1,000 metres  Silver  \n",
       "4        Canoeing Men's Canadian Doubles, Slalom  Bronze  \n",
       "...                                          ...     ...  \n",
       "1036  Canoeing Women's Kayak Doubles, 500 metres    Gold  \n",
       "1037  Canoeing Women's Kayak Doubles, 500 metres    Gold  \n",
       "1038  Canoeing Women's Kayak Singles, 500 metres    Gold  \n",
       "1039  Canoeing Women's Kayak Doubles, 500 metres  Bronze  \n",
       "1040  Canoeing Men's Kayak Doubles, 1,000 metres  Silver  \n",
       "\n",
       "[1041 rows x 15 columns]"
      ]
     },
     "execution_count": 7,
     "metadata": {},
     "output_type": "execute_result"
    }
   ],
   "source": [
    "data = pd.read_csv('23.csv')\n",
    "data                                                         #importing the csv file and displaying it "
   ]
  },
  {
   "cell_type": "code",
   "execution_count": 8,
   "metadata": {},
   "outputs": [
    {
     "data": {
      "text/plain": [
       "ID        0\n",
       "Name      0\n",
       "Sex       0\n",
       "Age       5\n",
       "Height    6\n",
       "Weight    5\n",
       "Team      0\n",
       "NOC       0\n",
       "Games     0\n",
       "Year      0\n",
       "Season    0\n",
       "City      0\n",
       "Sport     0\n",
       "Event     0\n",
       "Medal     0\n",
       "dtype: int64"
      ]
     },
     "execution_count": 8,
     "metadata": {},
     "output_type": "execute_result"
    }
   ],
   "source": [
    "data.isnull().sum()"
   ]
  },
  {
   "cell_type": "code",
   "execution_count": 9,
   "metadata": {},
   "outputs": [
    {
     "data": {
      "text/plain": [
       "26"
      ]
     },
     "execution_count": 9,
     "metadata": {},
     "output_type": "execute_result"
    }
   ],
   "source": [
    "# calculating mean for the column with null values and rounding off to clear float value\n",
    "age = data['Age'].mean()\n",
    "round(age)"
   ]
  },
  {
   "cell_type": "code",
   "execution_count": 10,
   "metadata": {},
   "outputs": [
    {
     "data": {
      "text/plain": [
       "180"
      ]
     },
     "execution_count": 10,
     "metadata": {},
     "output_type": "execute_result"
    }
   ],
   "source": [
    "# calculating mean for the column with null values and rounding off to clear floating value\n",
    "height = data['Height'].mean()\n",
    "round(height)"
   ]
  },
  {
   "cell_type": "code",
   "execution_count": 11,
   "metadata": {},
   "outputs": [
    {
     "data": {
      "text/plain": [
       "180"
      ]
     },
     "execution_count": 11,
     "metadata": {},
     "output_type": "execute_result"
    }
   ],
   "source": [
    "# calculating mean for the column with null values and rounding off to clear float value\n",
    "weight = data['Height'].mean()\n",
    "round(weight)"
   ]
  },
  {
   "cell_type": "code",
   "execution_count": 12,
   "metadata": {},
   "outputs": [],
   "source": [
    "#filling mean to null values in the column \n",
    "data['Age'].fillna(age, inplace=True)\n",
    "data['Height'].fillna(height, inplace=True)\n",
    "data['Weight'].fillna(weight, inplace=True)"
   ]
  },
  {
   "cell_type": "code",
   "execution_count": 13,
   "metadata": {},
   "outputs": [
    {
     "data": {
      "text/plain": [
       "ID        0\n",
       "Name      0\n",
       "Sex       0\n",
       "Age       0\n",
       "Height    0\n",
       "Weight    0\n",
       "Team      0\n",
       "NOC       0\n",
       "Games     0\n",
       "Year      0\n",
       "Season    0\n",
       "City      0\n",
       "Sport     0\n",
       "Event     0\n",
       "Medal     0\n",
       "dtype: int64"
      ]
     },
     "execution_count": 13,
     "metadata": {},
     "output_type": "execute_result"
    }
   ],
   "source": [
    "#checking to see if there are null values\n",
    "data.isnull().sum()"
   ]
  },
  {
   "cell_type": "markdown",
   "metadata": {},
   "source": [
    "# Question 2 - Visualization"
   ]
  },
  {
   "cell_type": "code",
   "execution_count": 14,
   "metadata": {},
   "outputs": [],
   "source": [
    "#extracting information of all silver medallists from the csv file \n",
    "age_silver = data.loc[data['Medal'] == 'Silver']\n",
    "age_silver.to_csv('PES1UG20CS721_age_silvermedallist.csv')"
   ]
  },
  {
   "cell_type": "code",
   "execution_count": 15,
   "metadata": {},
   "outputs": [
    {
     "data": {
      "text/html": [
       "<div>\n",
       "<style scoped>\n",
       "    .dataframe tbody tr th:only-of-type {\n",
       "        vertical-align: middle;\n",
       "    }\n",
       "\n",
       "    .dataframe tbody tr th {\n",
       "        vertical-align: top;\n",
       "    }\n",
       "\n",
       "    .dataframe thead th {\n",
       "        text-align: right;\n",
       "    }\n",
       "</style>\n",
       "<table border=\"1\" class=\"dataframe\">\n",
       "  <thead>\n",
       "    <tr style=\"text-align: right;\">\n",
       "      <th></th>\n",
       "      <th>Unnamed: 0</th>\n",
       "      <th>ID</th>\n",
       "      <th>Name</th>\n",
       "      <th>Sex</th>\n",
       "      <th>Age</th>\n",
       "      <th>Height</th>\n",
       "      <th>Weight</th>\n",
       "      <th>Team</th>\n",
       "      <th>NOC</th>\n",
       "      <th>Games</th>\n",
       "      <th>Year</th>\n",
       "      <th>Season</th>\n",
       "      <th>City</th>\n",
       "      <th>Sport</th>\n",
       "      <th>Event</th>\n",
       "      <th>Medal</th>\n",
       "    </tr>\n",
       "  </thead>\n",
       "  <tbody>\n",
       "    <tr>\n",
       "      <th>0</th>\n",
       "      <td>3</td>\n",
       "      <td>507</td>\n",
       "      <td>Attila brahm</td>\n",
       "      <td>M</td>\n",
       "      <td>25.0</td>\n",
       "      <td>192.0</td>\n",
       "      <td>88.0</td>\n",
       "      <td>Hungary</td>\n",
       "      <td>HUN</td>\n",
       "      <td>1992 Summer</td>\n",
       "      <td>1992</td>\n",
       "      <td>Summer</td>\n",
       "      <td>Barcelona</td>\n",
       "      <td>Canoeing</td>\n",
       "      <td>Canoeing Men's Kayak Fours, 1,000 metres</td>\n",
       "      <td>Silver</td>\n",
       "    </tr>\n",
       "    <tr>\n",
       "      <th>1</th>\n",
       "      <td>6</td>\n",
       "      <td>1025</td>\n",
       "      <td>Attila Adrovicz</td>\n",
       "      <td>M</td>\n",
       "      <td>30.0</td>\n",
       "      <td>189.0</td>\n",
       "      <td>87.0</td>\n",
       "      <td>Hungary</td>\n",
       "      <td>HUN</td>\n",
       "      <td>1996 Summer</td>\n",
       "      <td>1996</td>\n",
       "      <td>Summer</td>\n",
       "      <td>Atlanta</td>\n",
       "      <td>Canoeing</td>\n",
       "      <td>Canoeing Men's Kayak Fours, 1,000 metres</td>\n",
       "      <td>Silver</td>\n",
       "    </tr>\n",
       "    <tr>\n",
       "      <th>2</th>\n",
       "      <td>16</td>\n",
       "      <td>3880</td>\n",
       "      <td>Agneta Monica Andersson</td>\n",
       "      <td>F</td>\n",
       "      <td>23.0</td>\n",
       "      <td>172.0</td>\n",
       "      <td>68.0</td>\n",
       "      <td>Sweden</td>\n",
       "      <td>SWE</td>\n",
       "      <td>1984 Summer</td>\n",
       "      <td>1984</td>\n",
       "      <td>Summer</td>\n",
       "      <td>Los Angeles</td>\n",
       "      <td>Canoeing</td>\n",
       "      <td>Canoeing Women's Kayak Fours, 500 metres</td>\n",
       "      <td>Silver</td>\n",
       "    </tr>\n",
       "    <tr>\n",
       "      <th>3</th>\n",
       "      <td>17</td>\n",
       "      <td>3880</td>\n",
       "      <td>Agneta Monica Andersson</td>\n",
       "      <td>F</td>\n",
       "      <td>31.0</td>\n",
       "      <td>172.0</td>\n",
       "      <td>68.0</td>\n",
       "      <td>Sweden</td>\n",
       "      <td>SWE</td>\n",
       "      <td>1992 Summer</td>\n",
       "      <td>1992</td>\n",
       "      <td>Summer</td>\n",
       "      <td>Barcelona</td>\n",
       "      <td>Canoeing</td>\n",
       "      <td>Canoeing Women's Kayak Doubles, 500 metres</td>\n",
       "      <td>Silver</td>\n",
       "    </tr>\n",
       "    <tr>\n",
       "      <th>4</th>\n",
       "      <td>28</td>\n",
       "      <td>6505</td>\n",
       "      <td>Bjrn Bach</td>\n",
       "      <td>M</td>\n",
       "      <td>24.0</td>\n",
       "      <td>195.0</td>\n",
       "      <td>92.0</td>\n",
       "      <td>Germany</td>\n",
       "      <td>GER</td>\n",
       "      <td>2000 Summer</td>\n",
       "      <td>2000</td>\n",
       "      <td>Summer</td>\n",
       "      <td>Sydney</td>\n",
       "      <td>Canoeing</td>\n",
       "      <td>Canoeing Men's Kayak Fours, 1,000 metres</td>\n",
       "      <td>Silver</td>\n",
       "    </tr>\n",
       "    <tr>\n",
       "      <th>...</th>\n",
       "      <td>...</td>\n",
       "      <td>...</td>\n",
       "      <td>...</td>\n",
       "      <td>...</td>\n",
       "      <td>...</td>\n",
       "      <td>...</td>\n",
       "      <td>...</td>\n",
       "      <td>...</td>\n",
       "      <td>...</td>\n",
       "      <td>...</td>\n",
       "      <td>...</td>\n",
       "      <td>...</td>\n",
       "      <td>...</td>\n",
       "      <td>...</td>\n",
       "      <td>...</td>\n",
       "      <td>...</td>\n",
       "    </tr>\n",
       "    <tr>\n",
       "      <th>337</th>\n",
       "      <td>1031</td>\n",
       "      <td>133915</td>\n",
       "      <td>Holger Zander</td>\n",
       "      <td>M</td>\n",
       "      <td>21.0</td>\n",
       "      <td>176.0</td>\n",
       "      <td>78.0</td>\n",
       "      <td>Germany</td>\n",
       "      <td>GER</td>\n",
       "      <td>1964 Summer</td>\n",
       "      <td>1964</td>\n",
       "      <td>Summer</td>\n",
       "      <td>Tokyo</td>\n",
       "      <td>Canoeing</td>\n",
       "      <td>Canoeing Men's Kayak Fours, 1,000 metres</td>\n",
       "      <td>Silver</td>\n",
       "    </tr>\n",
       "    <tr>\n",
       "      <th>338</th>\n",
       "      <td>1032</td>\n",
       "      <td>134355</td>\n",
       "      <td>Theresia Maria \"Therese\" Zenz</td>\n",
       "      <td>F</td>\n",
       "      <td>24.0</td>\n",
       "      <td>165.0</td>\n",
       "      <td>65.0</td>\n",
       "      <td>Germany</td>\n",
       "      <td>GER</td>\n",
       "      <td>1956 Summer</td>\n",
       "      <td>1956</td>\n",
       "      <td>Summer</td>\n",
       "      <td>Melbourne</td>\n",
       "      <td>Canoeing</td>\n",
       "      <td>Canoeing Women's Kayak Singles, 500 metres</td>\n",
       "      <td>Silver</td>\n",
       "    </tr>\n",
       "    <tr>\n",
       "      <th>339</th>\n",
       "      <td>1033</td>\n",
       "      <td>134355</td>\n",
       "      <td>Theresia Maria \"Therese\" Zenz</td>\n",
       "      <td>F</td>\n",
       "      <td>27.0</td>\n",
       "      <td>165.0</td>\n",
       "      <td>65.0</td>\n",
       "      <td>Germany</td>\n",
       "      <td>GER</td>\n",
       "      <td>1960 Summer</td>\n",
       "      <td>1960</td>\n",
       "      <td>Summer</td>\n",
       "      <td>Roma</td>\n",
       "      <td>Canoeing</td>\n",
       "      <td>Canoeing Women's Kayak Singles, 500 metres</td>\n",
       "      <td>Silver</td>\n",
       "    </tr>\n",
       "    <tr>\n",
       "      <th>340</th>\n",
       "      <td>1034</td>\n",
       "      <td>134355</td>\n",
       "      <td>Theresia Maria \"Therese\" Zenz</td>\n",
       "      <td>F</td>\n",
       "      <td>27.0</td>\n",
       "      <td>165.0</td>\n",
       "      <td>65.0</td>\n",
       "      <td>Germany</td>\n",
       "      <td>GER</td>\n",
       "      <td>1960 Summer</td>\n",
       "      <td>1960</td>\n",
       "      <td>Summer</td>\n",
       "      <td>Roma</td>\n",
       "      <td>Canoeing</td>\n",
       "      <td>Canoeing Women's Kayak Doubles, 500 metres</td>\n",
       "      <td>Silver</td>\n",
       "    </tr>\n",
       "    <tr>\n",
       "      <th>341</th>\n",
       "      <td>1040</td>\n",
       "      <td>135245</td>\n",
       "      <td>Milenko Zori</td>\n",
       "      <td>M</td>\n",
       "      <td>27.0</td>\n",
       "      <td>179.0</td>\n",
       "      <td>73.0</td>\n",
       "      <td>Serbia</td>\n",
       "      <td>SRB</td>\n",
       "      <td>2016 Summer</td>\n",
       "      <td>2016</td>\n",
       "      <td>Summer</td>\n",
       "      <td>Rio de Janeiro</td>\n",
       "      <td>Canoeing</td>\n",
       "      <td>Canoeing Men's Kayak Doubles, 1,000 metres</td>\n",
       "      <td>Silver</td>\n",
       "    </tr>\n",
       "  </tbody>\n",
       "</table>\n",
       "<p>342 rows × 16 columns</p>\n",
       "</div>"
      ],
      "text/plain": [
       "     Unnamed: 0      ID                           Name Sex   Age  Height  \\\n",
       "0             3     507                   Attila brahm   M  25.0   192.0   \n",
       "1             6    1025                Attila Adrovicz   M  30.0   189.0   \n",
       "2            16    3880        Agneta Monica Andersson   F  23.0   172.0   \n",
       "3            17    3880        Agneta Monica Andersson   F  31.0   172.0   \n",
       "4            28    6505                      Bjrn Bach   M  24.0   195.0   \n",
       "..          ...     ...                            ...  ..   ...     ...   \n",
       "337        1031  133915                  Holger Zander   M  21.0   176.0   \n",
       "338        1032  134355  Theresia Maria \"Therese\" Zenz   F  24.0   165.0   \n",
       "339        1033  134355  Theresia Maria \"Therese\" Zenz   F  27.0   165.0   \n",
       "340        1034  134355  Theresia Maria \"Therese\" Zenz   F  27.0   165.0   \n",
       "341        1040  135245                   Milenko Zori   M  27.0   179.0   \n",
       "\n",
       "     Weight     Team  NOC        Games  Year  Season            City  \\\n",
       "0      88.0  Hungary  HUN  1992 Summer  1992  Summer       Barcelona   \n",
       "1      87.0  Hungary  HUN  1996 Summer  1996  Summer         Atlanta   \n",
       "2      68.0   Sweden  SWE  1984 Summer  1984  Summer     Los Angeles   \n",
       "3      68.0   Sweden  SWE  1992 Summer  1992  Summer       Barcelona   \n",
       "4      92.0  Germany  GER  2000 Summer  2000  Summer          Sydney   \n",
       "..      ...      ...  ...          ...   ...     ...             ...   \n",
       "337    78.0  Germany  GER  1964 Summer  1964  Summer           Tokyo   \n",
       "338    65.0  Germany  GER  1956 Summer  1956  Summer       Melbourne   \n",
       "339    65.0  Germany  GER  1960 Summer  1960  Summer            Roma   \n",
       "340    65.0  Germany  GER  1960 Summer  1960  Summer            Roma   \n",
       "341    73.0   Serbia  SRB  2016 Summer  2016  Summer  Rio de Janeiro   \n",
       "\n",
       "        Sport                                       Event   Medal  \n",
       "0    Canoeing    Canoeing Men's Kayak Fours, 1,000 metres  Silver  \n",
       "1    Canoeing    Canoeing Men's Kayak Fours, 1,000 metres  Silver  \n",
       "2    Canoeing    Canoeing Women's Kayak Fours, 500 metres  Silver  \n",
       "3    Canoeing  Canoeing Women's Kayak Doubles, 500 metres  Silver  \n",
       "4    Canoeing    Canoeing Men's Kayak Fours, 1,000 metres  Silver  \n",
       "..        ...                                         ...     ...  \n",
       "337  Canoeing    Canoeing Men's Kayak Fours, 1,000 metres  Silver  \n",
       "338  Canoeing  Canoeing Women's Kayak Singles, 500 metres  Silver  \n",
       "339  Canoeing  Canoeing Women's Kayak Singles, 500 metres  Silver  \n",
       "340  Canoeing  Canoeing Women's Kayak Doubles, 500 metres  Silver  \n",
       "341  Canoeing  Canoeing Men's Kayak Doubles, 1,000 metres  Silver  \n",
       "\n",
       "[342 rows x 16 columns]"
      ]
     },
     "execution_count": 15,
     "metadata": {},
     "output_type": "execute_result"
    }
   ],
   "source": [
    "#reading the new csv file \n",
    "data_updated = pd.read_csv('PES1UG20CS721_age_silvermedallist.csv')\n",
    "data_updated"
   ]
  },
  {
   "cell_type": "code",
   "execution_count": 16,
   "metadata": {},
   "outputs": [
    {
     "data": {
      "text/plain": [
       "<AxesSubplot:ylabel='Age'>"
      ]
     },
     "execution_count": 16,
     "metadata": {},
     "output_type": "execute_result"
    },
    {
     "data": {
      "image/png": "[encoded data removed]",
      "text/plain": [
       "<Figure size 432x288 with 1 Axes>"
      ]
     },
     "metadata": {},
     "output_type": "display_data"
    }
   ],
   "source": [
    "#plotting to find outliers \n",
    "sns.set_style(\"whitegrid\")\n",
    "sns.boxplot(y = data_updated['Age'],data = data_updated,color = 'turquoise')"
   ]
  },
  {
   "cell_type": "code",
   "execution_count": 17,
   "metadata": {},
   "outputs": [
    {
     "data": {
      "text/plain": [
       "count    342.000000\n",
       "mean      26.076023\n",
       "std        4.397421\n",
       "min       15.000000\n",
       "25%       23.000000\n",
       "50%       26.000000\n",
       "75%       29.000000\n",
       "max       43.000000\n",
       "Name: Age, dtype: float64"
      ]
     },
     "execution_count": 17,
     "metadata": {},
     "output_type": "execute_result"
    },
    {
     "data": {
      "image/png": "[encoded data removed]",
      "text/plain": [
       "<Figure size 432x288 with 1 Axes>"
      ]
     },
     "metadata": {},
     "output_type": "display_data"
    }
   ],
   "source": [
    "data_updated.boxplot(column=['Age'])\n",
    "data_updated['Age'].describe()"
   ]
  },
  {
   "cell_type": "code",
   "execution_count": 18,
   "metadata": {},
   "outputs": [
    {
     "ename": "NameError",
     "evalue": "name 'quantile3' is not defined",
     "output_type": "error",
     "traceback": [
      "\u001b[1;31m---------------------------------------------------------------------------\u001b[0m",
      "\u001b[1;31mNameError\u001b[0m                                 Traceback (most recent call last)",
      "\u001b[1;32m<ipython-input-18-fbb745489ae3>\u001b[0m in \u001b[0;36m<module>\u001b[1;34m\u001b[0m\n\u001b[0;32m      2\u001b[0m \u001b[0mquartile1\u001b[0m \u001b[1;33m=\u001b[0m \u001b[0mdata_updated\u001b[0m\u001b[1;33m[\u001b[0m\u001b[1;34m'Age'\u001b[0m\u001b[1;33m]\u001b[0m\u001b[1;33m.\u001b[0m\u001b[0mquantile\u001b[0m\u001b[1;33m(\u001b[0m\u001b[1;36m.25\u001b[0m\u001b[1;33m)\u001b[0m\u001b[1;33m\u001b[0m\u001b[1;33m\u001b[0m\u001b[0m\n\u001b[0;32m      3\u001b[0m \u001b[0mquartile3\u001b[0m \u001b[1;33m=\u001b[0m \u001b[0mdata_updated\u001b[0m\u001b[1;33m[\u001b[0m\u001b[1;34m'Age'\u001b[0m\u001b[1;33m]\u001b[0m\u001b[1;33m.\u001b[0m\u001b[0mquantile\u001b[0m\u001b[1;33m(\u001b[0m\u001b[1;36m.75\u001b[0m\u001b[1;33m)\u001b[0m\u001b[1;33m\u001b[0m\u001b[1;33m\u001b[0m\u001b[0m\n\u001b[1;32m----> 4\u001b[1;33m \u001b[0mintqr\u001b[0m \u001b[1;33m=\u001b[0m \u001b[0mquantile3\u001b[0m \u001b[1;33m-\u001b[0m \u001b[0mquantile1\u001b[0m\u001b[1;33m\u001b[0m\u001b[1;33m\u001b[0m\u001b[0m\n\u001b[0m\u001b[0;32m      5\u001b[0m \u001b[0mintqr\u001b[0m\u001b[1;33m\u001b[0m\u001b[1;33m\u001b[0m\u001b[0m\n",
      "\u001b[1;31mNameError\u001b[0m: name 'quantile3' is not defined"
     ]
    }
   ],
   "source": [
    "#calculating the inter quantile range to find the outliers if any \n",
    "quartile1 = data_updated['Age'].quantile(.25)\n",
    "quartile3 = data_updated['Age'].quantile(.75)\n",
    "intqr = quantile3 - quantile1\n",
    "intqr"
   ]
  },
  {
   "cell_type": "code",
   "execution_count": 19,
   "metadata": {},
   "outputs": [
    {
     "ename": "NameError",
     "evalue": "name 'quantile1' is not defined",
     "output_type": "error",
     "traceback": [
      "\u001b[1;31m---------------------------------------------------------------------------\u001b[0m",
      "\u001b[1;31mNameError\u001b[0m                                 Traceback (most recent call last)",
      "\u001b[1;32m<ipython-input-19-ec23f0fe2038>\u001b[0m in \u001b[0;36m<module>\u001b[1;34m\u001b[0m\n\u001b[0;32m      1\u001b[0m \u001b[1;31m#finding the number of outliers\u001b[0m\u001b[1;33m\u001b[0m\u001b[1;33m\u001b[0m\u001b[1;33m\u001b[0m\u001b[0m\n\u001b[1;32m----> 2\u001b[1;33m \u001b[1;33m(\u001b[0m\u001b[1;33m(\u001b[0m\u001b[0mdata_updated\u001b[0m\u001b[1;33m[\u001b[0m\u001b[1;34m'Age'\u001b[0m\u001b[1;33m]\u001b[0m\u001b[1;33m<\u001b[0m\u001b[1;33m(\u001b[0m\u001b[0mquantile1\u001b[0m \u001b[1;33m-\u001b[0m \u001b[1;36m1.5\u001b[0m\u001b[1;33m*\u001b[0m\u001b[0mintqr\u001b[0m\u001b[1;33m)\u001b[0m\u001b[1;33m)\u001b[0m \u001b[1;33m|\u001b[0m \u001b[1;33m(\u001b[0m\u001b[0mdata_updated\u001b[0m\u001b[1;33m[\u001b[0m\u001b[1;34m'Age'\u001b[0m\u001b[1;33m]\u001b[0m\u001b[1;33m>\u001b[0m\u001b[1;33m(\u001b[0m\u001b[0mquantile3\u001b[0m \u001b[1;33m+\u001b[0m \u001b[1;36m1.5\u001b[0m\u001b[1;33m*\u001b[0m\u001b[0mintqr\u001b[0m\u001b[1;33m)\u001b[0m\u001b[1;33m)\u001b[0m\u001b[1;33m)\u001b[0m\u001b[1;33m.\u001b[0m\u001b[0msum\u001b[0m\u001b[1;33m(\u001b[0m\u001b[1;33m)\u001b[0m\u001b[1;33m\u001b[0m\u001b[1;33m\u001b[0m\u001b[0m\n\u001b[0m",
      "\u001b[1;31mNameError\u001b[0m: name 'quantile1' is not defined"
     ]
    }
   ],
   "source": [
    "#finding the number of outliers \n",
    "((data_updated['Age']<(quantile1 - 1.5*intqr)) | (data_updated['Age']>(quantile3 + 1.5*intqr))).sum()"
   ]
  },
  {
   "cell_type": "code",
   "execution_count": 20,
   "metadata": {},
   "outputs": [
    {
     "ename": "NameError",
     "evalue": "name 'quantile1' is not defined",
     "output_type": "error",
     "traceback": [
      "\u001b[1;31m---------------------------------------------------------------------------\u001b[0m",
      "\u001b[1;31mNameError\u001b[0m                                 Traceback (most recent call last)",
      "\u001b[1;32m<ipython-input-20-57ee5b0fabd4>\u001b[0m in \u001b[0;36m<module>\u001b[1;34m\u001b[0m\n\u001b[1;32m----> 1\u001b[1;33m \u001b[0mout\u001b[0m \u001b[1;33m=\u001b[0m \u001b[0mdata_updated\u001b[0m\u001b[1;33m[\u001b[0m\u001b[1;33m(\u001b[0m\u001b[1;33m(\u001b[0m\u001b[0mdata_updated\u001b[0m\u001b[1;33m[\u001b[0m\u001b[1;34m'Age'\u001b[0m\u001b[1;33m]\u001b[0m\u001b[1;33m<\u001b[0m\u001b[1;33m(\u001b[0m\u001b[0mquantile1\u001b[0m \u001b[1;33m-\u001b[0m \u001b[1;36m1.5\u001b[0m\u001b[1;33m*\u001b[0m\u001b[0mintqr\u001b[0m\u001b[1;33m)\u001b[0m\u001b[1;33m)\u001b[0m\u001b[1;33m|\u001b[0m\u001b[1;33m(\u001b[0m\u001b[1;33m(\u001b[0m\u001b[0mdata_updated\u001b[0m\u001b[1;33m[\u001b[0m\u001b[1;34m'Age'\u001b[0m\u001b[1;33m]\u001b[0m\u001b[1;33m)\u001b[0m\u001b[1;33m>\u001b[0m\u001b[1;33m(\u001b[0m\u001b[0mquantile3\u001b[0m \u001b[1;33m+\u001b[0m \u001b[1;36m1.5\u001b[0m\u001b[1;33m*\u001b[0m\u001b[0mintqr\u001b[0m\u001b[1;33m)\u001b[0m\u001b[1;33m)\u001b[0m\u001b[1;33m)\u001b[0m\u001b[1;33m]\u001b[0m\u001b[1;33m.\u001b[0m\u001b[0mindex\u001b[0m\u001b[1;33m\u001b[0m\u001b[1;33m\u001b[0m\u001b[0m\n\u001b[0m\u001b[0;32m      2\u001b[0m \u001b[0mdata_updated\u001b[0m\u001b[1;33m.\u001b[0m\u001b[0mdrop\u001b[0m\u001b[1;33m(\u001b[0m\u001b[0mout\u001b[0m\u001b[1;33m,\u001b[0m\u001b[0minplace\u001b[0m \u001b[1;33m=\u001b[0m \u001b[1;32mTrue\u001b[0m\u001b[1;33m)\u001b[0m\u001b[1;33m\u001b[0m\u001b[1;33m\u001b[0m\u001b[0m\n",
      "\u001b[1;31mNameError\u001b[0m: name 'quantile1' is not defined"
     ]
    }
   ],
   "source": [
    "out = data_updated[((data_updated['Age']<(quantile1 - 1.5*intqr))|((data_updated['Age'])>(quantile3 + 1.5*intqr)))].index\n",
    "data_updated.drop(out,inplace = True)"
   ]
  },
  {
   "cell_type": "code",
   "execution_count": 21,
   "metadata": {},
   "outputs": [
    {
     "data": {
      "text/plain": [
       "<AxesSubplot:xlabel='Medal', ylabel='Age'>"
      ]
     },
     "execution_count": 21,
     "metadata": {},
     "output_type": "execute_result"
    },
    {
     "data": {
      "image/png": "[encoded data removed]",
      "text/plain": [
       "<Figure size 1440x720 with 1 Axes>"
      ]
     },
     "metadata": {},
     "output_type": "display_data"
    }
   ],
   "source": [
    "#data visualization after removing the outliers\n",
    "plt.figure(figsize=(20,10))\n",
    "sns.boxplot(x='Medal',y='Age',data=data_updated)"
   ]
  },
  {
   "cell_type": "markdown",
   "metadata": {},
   "source": [
    "# Question 3 - Creating BMI Column "
   ]
  },
  {
   "cell_type": "code",
   "execution_count": 22,
   "metadata": {},
   "outputs": [
    {
     "data": {
      "text/plain": [
       "0       1.80\n",
       "1       1.92\n",
       "2       1.92\n",
       "3       1.92\n",
       "4       1.80\n",
       "        ... \n",
       "1036    1.70\n",
       "1037    1.70\n",
       "1038    1.78\n",
       "1039    1.78\n",
       "1040    1.79\n",
       "Name: Height_Metre, Length: 1041, dtype: float64"
      ]
     },
     "execution_count": 22,
     "metadata": {},
     "output_type": "execute_result"
    }
   ],
   "source": [
    "#converting the height from cm to m and creating a new column for that \n",
    "data['Height_Metre']= data['Height'].div(100)\n",
    "data['Height_Metre']"
   ]
  },
  {
   "cell_type": "code",
   "execution_count": 23,
   "metadata": {},
   "outputs": [
    {
     "data": {
      "text/html": [
       "<div>\n",
       "<style scoped>\n",
       "    .dataframe tbody tr th:only-of-type {\n",
       "        vertical-align: middle;\n",
       "    }\n",
       "\n",
       "    .dataframe tbody tr th {\n",
       "        vertical-align: top;\n",
       "    }\n",
       "\n",
       "    .dataframe thead th {\n",
       "        text-align: right;\n",
       "    }\n",
       "</style>\n",
       "<table border=\"1\" class=\"dataframe\">\n",
       "  <thead>\n",
       "    <tr style=\"text-align: right;\">\n",
       "      <th></th>\n",
       "      <th>ID</th>\n",
       "      <th>Name</th>\n",
       "      <th>Sex</th>\n",
       "      <th>Age</th>\n",
       "      <th>Height</th>\n",
       "      <th>Weight</th>\n",
       "      <th>Team</th>\n",
       "      <th>NOC</th>\n",
       "      <th>Games</th>\n",
       "      <th>Year</th>\n",
       "      <th>Season</th>\n",
       "      <th>City</th>\n",
       "      <th>Sport</th>\n",
       "      <th>Event</th>\n",
       "      <th>Medal</th>\n",
       "      <th>Height_Metre</th>\n",
       "      <th>BMI</th>\n",
       "    </tr>\n",
       "  </thead>\n",
       "  <tbody>\n",
       "    <tr>\n",
       "      <th>0</th>\n",
       "      <td>72</td>\n",
       "      <td>Aleksey Aleksandrovich Abalmasov</td>\n",
       "      <td>M</td>\n",
       "      <td>28.0</td>\n",
       "      <td>180.0</td>\n",
       "      <td>83.0</td>\n",
       "      <td>Belarus</td>\n",
       "      <td>BLR</td>\n",
       "      <td>2008 Summer</td>\n",
       "      <td>2008</td>\n",
       "      <td>Summer</td>\n",
       "      <td>Beijing</td>\n",
       "      <td>Canoeing</td>\n",
       "      <td>Canoeing Men's Kayak Fours, 1,000 metres</td>\n",
       "      <td>Gold</td>\n",
       "      <td>1.80</td>\n",
       "      <td>25.617284</td>\n",
       "    </tr>\n",
       "    <tr>\n",
       "      <th>1</th>\n",
       "      <td>507</td>\n",
       "      <td>Attila brahm</td>\n",
       "      <td>M</td>\n",
       "      <td>21.0</td>\n",
       "      <td>192.0</td>\n",
       "      <td>88.0</td>\n",
       "      <td>Hungary</td>\n",
       "      <td>HUN</td>\n",
       "      <td>1988 Summer</td>\n",
       "      <td>1988</td>\n",
       "      <td>Summer</td>\n",
       "      <td>Seoul</td>\n",
       "      <td>Canoeing</td>\n",
       "      <td>Canoeing Men's Kayak Doubles, 500 metres</td>\n",
       "      <td>Bronze</td>\n",
       "      <td>1.92</td>\n",
       "      <td>23.871528</td>\n",
       "    </tr>\n",
       "    <tr>\n",
       "      <th>2</th>\n",
       "      <td>507</td>\n",
       "      <td>Attila brahm</td>\n",
       "      <td>M</td>\n",
       "      <td>21.0</td>\n",
       "      <td>192.0</td>\n",
       "      <td>88.0</td>\n",
       "      <td>Hungary</td>\n",
       "      <td>HUN</td>\n",
       "      <td>1988 Summer</td>\n",
       "      <td>1988</td>\n",
       "      <td>Summer</td>\n",
       "      <td>Seoul</td>\n",
       "      <td>Canoeing</td>\n",
       "      <td>Canoeing Men's Kayak Fours, 1,000 metres</td>\n",
       "      <td>Gold</td>\n",
       "      <td>1.92</td>\n",
       "      <td>23.871528</td>\n",
       "    </tr>\n",
       "    <tr>\n",
       "      <th>3</th>\n",
       "      <td>507</td>\n",
       "      <td>Attila brahm</td>\n",
       "      <td>M</td>\n",
       "      <td>25.0</td>\n",
       "      <td>192.0</td>\n",
       "      <td>88.0</td>\n",
       "      <td>Hungary</td>\n",
       "      <td>HUN</td>\n",
       "      <td>1992 Summer</td>\n",
       "      <td>1992</td>\n",
       "      <td>Summer</td>\n",
       "      <td>Barcelona</td>\n",
       "      <td>Canoeing</td>\n",
       "      <td>Canoeing Men's Kayak Fours, 1,000 metres</td>\n",
       "      <td>Silver</td>\n",
       "      <td>1.92</td>\n",
       "      <td>23.871528</td>\n",
       "    </tr>\n",
       "    <tr>\n",
       "      <th>4</th>\n",
       "      <td>953</td>\n",
       "      <td>Franck Adisson</td>\n",
       "      <td>M</td>\n",
       "      <td>23.0</td>\n",
       "      <td>180.0</td>\n",
       "      <td>70.0</td>\n",
       "      <td>France-1</td>\n",
       "      <td>FRA</td>\n",
       "      <td>1992 Summer</td>\n",
       "      <td>1992</td>\n",
       "      <td>Summer</td>\n",
       "      <td>Barcelona</td>\n",
       "      <td>Canoeing</td>\n",
       "      <td>Canoeing Men's Canadian Doubles, Slalom</td>\n",
       "      <td>Bronze</td>\n",
       "      <td>1.80</td>\n",
       "      <td>21.604938</td>\n",
       "    </tr>\n",
       "    <tr>\n",
       "      <th>...</th>\n",
       "      <td>...</td>\n",
       "      <td>...</td>\n",
       "      <td>...</td>\n",
       "      <td>...</td>\n",
       "      <td>...</td>\n",
       "      <td>...</td>\n",
       "      <td>...</td>\n",
       "      <td>...</td>\n",
       "      <td>...</td>\n",
       "      <td>...</td>\n",
       "      <td>...</td>\n",
       "      <td>...</td>\n",
       "      <td>...</td>\n",
       "      <td>...</td>\n",
       "      <td>...</td>\n",
       "      <td>...</td>\n",
       "      <td>...</td>\n",
       "    </tr>\n",
       "    <tr>\n",
       "      <th>1036</th>\n",
       "      <td>135018</td>\n",
       "      <td>Annemarie Zimmermann</td>\n",
       "      <td>F</td>\n",
       "      <td>24.0</td>\n",
       "      <td>170.0</td>\n",
       "      <td>65.0</td>\n",
       "      <td>Germany</td>\n",
       "      <td>GER</td>\n",
       "      <td>1964 Summer</td>\n",
       "      <td>1964</td>\n",
       "      <td>Summer</td>\n",
       "      <td>Tokyo</td>\n",
       "      <td>Canoeing</td>\n",
       "      <td>Canoeing Women's Kayak Doubles, 500 metres</td>\n",
       "      <td>Gold</td>\n",
       "      <td>1.70</td>\n",
       "      <td>22.491349</td>\n",
       "    </tr>\n",
       "    <tr>\n",
       "      <th>1037</th>\n",
       "      <td>135018</td>\n",
       "      <td>Annemarie Zimmermann</td>\n",
       "      <td>F</td>\n",
       "      <td>28.0</td>\n",
       "      <td>170.0</td>\n",
       "      <td>65.0</td>\n",
       "      <td>West Germany</td>\n",
       "      <td>FRG</td>\n",
       "      <td>1968 Summer</td>\n",
       "      <td>1968</td>\n",
       "      <td>Summer</td>\n",
       "      <td>Mexico City</td>\n",
       "      <td>Canoeing</td>\n",
       "      <td>Canoeing Women's Kayak Doubles, 500 metres</td>\n",
       "      <td>Gold</td>\n",
       "      <td>1.70</td>\n",
       "      <td>22.491349</td>\n",
       "    </tr>\n",
       "    <tr>\n",
       "      <th>1038</th>\n",
       "      <td>135109</td>\n",
       "      <td>Carola Zirzow (-Drechsler)</td>\n",
       "      <td>F</td>\n",
       "      <td>21.0</td>\n",
       "      <td>178.0</td>\n",
       "      <td>78.0</td>\n",
       "      <td>East Germany</td>\n",
       "      <td>GDR</td>\n",
       "      <td>1976 Summer</td>\n",
       "      <td>1976</td>\n",
       "      <td>Summer</td>\n",
       "      <td>Montreal</td>\n",
       "      <td>Canoeing</td>\n",
       "      <td>Canoeing Women's Kayak Singles, 500 metres</td>\n",
       "      <td>Gold</td>\n",
       "      <td>1.78</td>\n",
       "      <td>24.618104</td>\n",
       "    </tr>\n",
       "    <tr>\n",
       "      <th>1039</th>\n",
       "      <td>135109</td>\n",
       "      <td>Carola Zirzow (-Drechsler)</td>\n",
       "      <td>F</td>\n",
       "      <td>21.0</td>\n",
       "      <td>178.0</td>\n",
       "      <td>78.0</td>\n",
       "      <td>East Germany</td>\n",
       "      <td>GDR</td>\n",
       "      <td>1976 Summer</td>\n",
       "      <td>1976</td>\n",
       "      <td>Summer</td>\n",
       "      <td>Montreal</td>\n",
       "      <td>Canoeing</td>\n",
       "      <td>Canoeing Women's Kayak Doubles, 500 metres</td>\n",
       "      <td>Bronze</td>\n",
       "      <td>1.78</td>\n",
       "      <td>24.618104</td>\n",
       "    </tr>\n",
       "    <tr>\n",
       "      <th>1040</th>\n",
       "      <td>135245</td>\n",
       "      <td>Milenko Zori</td>\n",
       "      <td>M</td>\n",
       "      <td>27.0</td>\n",
       "      <td>179.0</td>\n",
       "      <td>73.0</td>\n",
       "      <td>Serbia</td>\n",
       "      <td>SRB</td>\n",
       "      <td>2016 Summer</td>\n",
       "      <td>2016</td>\n",
       "      <td>Summer</td>\n",
       "      <td>Rio de Janeiro</td>\n",
       "      <td>Canoeing</td>\n",
       "      <td>Canoeing Men's Kayak Doubles, 1,000 metres</td>\n",
       "      <td>Silver</td>\n",
       "      <td>1.79</td>\n",
       "      <td>22.783309</td>\n",
       "    </tr>\n",
       "  </tbody>\n",
       "</table>\n",
       "<p>1041 rows × 17 columns</p>\n",
       "</div>"
      ],
      "text/plain": [
       "          ID                              Name Sex   Age  Height  Weight  \\\n",
       "0         72  Aleksey Aleksandrovich Abalmasov   M  28.0   180.0    83.0   \n",
       "1        507                      Attila brahm   M  21.0   192.0    88.0   \n",
       "2        507                      Attila brahm   M  21.0   192.0    88.0   \n",
       "3        507                      Attila brahm   M  25.0   192.0    88.0   \n",
       "4        953                    Franck Adisson   M  23.0   180.0    70.0   \n",
       "...      ...                               ...  ..   ...     ...     ...   \n",
       "1036  135018              Annemarie Zimmermann   F  24.0   170.0    65.0   \n",
       "1037  135018              Annemarie Zimmermann   F  28.0   170.0    65.0   \n",
       "1038  135109        Carola Zirzow (-Drechsler)   F  21.0   178.0    78.0   \n",
       "1039  135109        Carola Zirzow (-Drechsler)   F  21.0   178.0    78.0   \n",
       "1040  135245                      Milenko Zori   M  27.0   179.0    73.0   \n",
       "\n",
       "              Team  NOC        Games  Year  Season            City     Sport  \\\n",
       "0          Belarus  BLR  2008 Summer  2008  Summer         Beijing  Canoeing   \n",
       "1          Hungary  HUN  1988 Summer  1988  Summer           Seoul  Canoeing   \n",
       "2          Hungary  HUN  1988 Summer  1988  Summer           Seoul  Canoeing   \n",
       "3          Hungary  HUN  1992 Summer  1992  Summer       Barcelona  Canoeing   \n",
       "4         France-1  FRA  1992 Summer  1992  Summer       Barcelona  Canoeing   \n",
       "...            ...  ...          ...   ...     ...             ...       ...   \n",
       "1036       Germany  GER  1964 Summer  1964  Summer           Tokyo  Canoeing   \n",
       "1037  West Germany  FRG  1968 Summer  1968  Summer     Mexico City  Canoeing   \n",
       "1038  East Germany  GDR  1976 Summer  1976  Summer        Montreal  Canoeing   \n",
       "1039  East Germany  GDR  1976 Summer  1976  Summer        Montreal  Canoeing   \n",
       "1040        Serbia  SRB  2016 Summer  2016  Summer  Rio de Janeiro  Canoeing   \n",
       "\n",
       "                                           Event   Medal  Height_Metre  \\\n",
       "0       Canoeing Men's Kayak Fours, 1,000 metres    Gold          1.80   \n",
       "1       Canoeing Men's Kayak Doubles, 500 metres  Bronze          1.92   \n",
       "2       Canoeing Men's Kayak Fours, 1,000 metres    Gold          1.92   \n",
       "3       Canoeing Men's Kayak Fours, 1,000 metres  Silver          1.92   \n",
       "4        Canoeing Men's Canadian Doubles, Slalom  Bronze          1.80   \n",
       "...                                          ...     ...           ...   \n",
       "1036  Canoeing Women's Kayak Doubles, 500 metres    Gold          1.70   \n",
       "1037  Canoeing Women's Kayak Doubles, 500 metres    Gold          1.70   \n",
       "1038  Canoeing Women's Kayak Singles, 500 metres    Gold          1.78   \n",
       "1039  Canoeing Women's Kayak Doubles, 500 metres  Bronze          1.78   \n",
       "1040  Canoeing Men's Kayak Doubles, 1,000 metres  Silver          1.79   \n",
       "\n",
       "            BMI  \n",
       "0     25.617284  \n",
       "1     23.871528  \n",
       "2     23.871528  \n",
       "3     23.871528  \n",
       "4     21.604938  \n",
       "...         ...  \n",
       "1036  22.491349  \n",
       "1037  22.491349  \n",
       "1038  24.618104  \n",
       "1039  24.618104  \n",
       "1040  22.783309  \n",
       "\n",
       "[1041 rows x 17 columns]"
      ]
     },
     "execution_count": 23,
     "metadata": {},
     "output_type": "execute_result"
    }
   ],
   "source": [
    "#creating a column BMI and using formula to calculate the BMI of each athlete\n",
    "data['BMI']= data['Weight']/(data['Height_Metre']*data['Height_Metre'])\n",
    "data"
   ]
  },
  {
   "cell_type": "markdown",
   "metadata": {},
   "source": [
    "# Question 4 - Height vs Weight"
   ]
  },
  {
   "cell_type": "code",
   "execution_count": 24,
   "metadata": {},
   "outputs": [
    {
     "data": {
      "text/plain": [
       "<matplotlib.collections.PathCollection at 0x22e735450d0>"
      ]
     },
     "execution_count": 24,
     "metadata": {},
     "output_type": "execute_result"
    },
    {
     "data": {
      "image/png": "[encoded data removed]",
      "text/plain": [
       "<Figure size 432x288 with 1 Axes>"
      ]
     },
     "metadata": {},
     "output_type": "display_data"
    }
   ],
   "source": [
    "x = data['Height']\n",
    "y=data['Weight']\n",
    "plt.xlabel(\"Height in cm\")\n",
    "plt.ylabel(\"Weight in Kg\")\n",
    "plt.title(\"Height Vs Weight of Athletes\")\n",
    "plt.scatter(x,y,c='pink')"
   ]
  },
  {
   "cell_type": "markdown",
   "metadata": {},
   "source": [
    "The above scatterplot is a positive correlation"
   ]
  },
  {
   "cell_type": "markdown",
   "metadata": {},
   "source": [
    "# Question 5 - Visualize gender "
   ]
  },
  {
   "cell_type": "code",
   "execution_count": 25,
   "metadata": {},
   "outputs": [
    {
     "data": {
      "text/plain": [
       "<AxesSubplot:title={'center':'Gender Distrubution over last 5 years'}, xlabel='Year'>"
      ]
     },
     "execution_count": 25,
     "metadata": {},
     "output_type": "execute_result"
    },
    {
     "data": {
      "image/png": "[encoded data removed]",
      "text/plain": [
       "<Figure size 432x288 with 1 Axes>"
      ]
     },
     "metadata": {},
     "output_type": "display_data"
    }
   ],
   "source": [
    "#making a group bar graph for gender \n",
    "data['Sex'].astype(str)\n",
    "year = [2016, 2012, 2008, 2004, 2000]\n",
    "male=[]\n",
    "female=[]\n",
    "for i in year:\n",
    "    year_group = data.loc[data.Year == i]\n",
    "    male_group = year_group.loc[year_group.Sex == 'M']\n",
    "    female_group = year_group.loc[year_group.Sex == 'F']\n",
    "    male.append(male_group.size)\n",
    "    female.append(female_group.size)\n",
    "\n",
    "gender_group = pd.DataFrame([[year[x], male[x], female[x]] for x in range(5)],\n",
    "                  columns=['Year', 'Male', 'Female'])\n",
    "\n",
    "gender_group.plot(x='Year',kind='bar',stacked=False,title='Gender Distrubution over last 5 years')"
   ]
  },
  {
   "cell_type": "markdown",
   "metadata": {},
   "source": [
    "# Task Questions "
   ]
  },
  {
   "cell_type": "markdown",
   "metadata": {},
   "source": [
    "# Question 1 "
   ]
  },
  {
   "cell_type": "code",
   "execution_count": 26,
   "metadata": {},
   "outputs": [
    {
     "data": {
      "text/plain": [
       "Hungary             147\n",
       "Germany             141\n",
       "Soviet Union         77\n",
       "Romania              66\n",
       "East Germany         50\n",
       "Sweden               45\n",
       "France               43\n",
       "Australia            40\n",
       "Poland               35\n",
       "Slovakia             32\n",
       "Bulgaria             28\n",
       "Spain                24\n",
       "Italy                23\n",
       "Canada               23\n",
       "Russia               22\n",
       "Belarus              22\n",
       "Norway               19\n",
       "New Zealand          18\n",
       "Great Britain        18\n",
       "Czech Republic       18\n",
       "Denmark              15\n",
       "Ukraine              12\n",
       "Finland              12\n",
       "United States        12\n",
       "West Germany         12\n",
       "Yugoslavia            7\n",
       "Austria               6\n",
       "Netherlands           6\n",
       "Czech Republic-1      6\n",
       "Cuba                  5\n",
       "China                 4\n",
       "Switzerland           4\n",
       "Germany-1             4\n",
       "France-1              4\n",
       "Brazil                4\n",
       "Lithuania             3\n",
       "Unified Team          3\n",
       "Great Britain-2       2\n",
       "West Germany-1        2\n",
       "Azerbaijan            2\n",
       "Moldova               2\n",
       "Czechoslovakia-1      2\n",
       "United States-1       2\n",
       "Poland-1              2\n",
       "Latvia                2\n",
       "Serbia                2\n",
       "Portugal              2\n",
       "East Germany-1        2\n",
       "Great Britain-1       2\n",
       "Slovenia              2\n",
       "Czechoslovakia        1\n",
       "Togo                  1\n",
       "Israel                1\n",
       "Japan                 1\n",
       "South Africa          1\n",
       "Name: Team, dtype: int64"
      ]
     },
     "execution_count": 26,
     "metadata": {},
     "output_type": "execute_result"
    }
   ],
   "source": [
    "#count the teams with maximum years of participation\n",
    "top_count = data.Team.value_counts()\n",
    "top_count"
   ]
  },
  {
   "cell_type": "code",
   "execution_count": 27,
   "metadata": {},
   "outputs": [
    {
     "data": {
      "text/plain": [
       "<AxesSubplot:xlabel='Year'>"
      ]
     },
     "execution_count": 27,
     "metadata": {},
     "output_type": "execute_result"
    },
    {
     "data": {
      "image/png": "[encoded data removed]",
      "text/plain": [
       "<Figure size 432x288 with 1 Axes>"
      ]
     },
     "metadata": {},
     "output_type": "display_data"
    }
   ],
   "source": [
    "#hungary was identified as the team with most participation\n",
    "#stack bar graph is being plotted with the medal count\n",
    "data_new = data.query('Team==\"Hungary\"')\n",
    "data_new.groupby(['Year','Medal']).size().unstack().plot(kind='bar',stacked=\"True\")"
   ]
  },
  {
   "cell_type": "markdown",
   "metadata": {},
   "source": [
    "# Question 2 - Medal Frequency"
   ]
  },
  {
   "cell_type": "code",
   "execution_count": 28,
   "metadata": {},
   "outputs": [
    {
     "data": {
      "text/plain": [
       "Name\n",
       "Birgit Fischer-Schmidt      12\n",
       "Gert Fridolf Fredriksson     8\n",
       "Katalin Kovcs                8\n",
       "Ivan Patzaichin              7\n",
       "Agneta Monica Andersson      7\n",
       "                            ..\n",
       "Jan Vandrey                  1\n",
       "Raluca Andreea Ioni          1\n",
       "Rafa Maciej Piszcz           1\n",
       "Jean Pierre Boudehen         1\n",
       "Adam Dariusz Seroczyski      1\n",
       "Name: Medal, Length: 610, dtype: int64"
      ]
     },
     "execution_count": 28,
     "metadata": {},
     "output_type": "execute_result"
    }
   ],
   "source": [
    "#counting maximum occurances of athlete names\n",
    "count_medals = data.groupby('Name')['Medal'].count()\n",
    "count_medals.sort_values(ascending = False)"
   ]
  },
  {
   "cell_type": "code",
   "execution_count": 29,
   "metadata": {},
   "outputs": [
    {
     "data": {
      "text/html": [
       "<div>\n",
       "<style scoped>\n",
       "    .dataframe tbody tr th:only-of-type {\n",
       "        vertical-align: middle;\n",
       "    }\n",
       "\n",
       "    .dataframe tbody tr th {\n",
       "        vertical-align: top;\n",
       "    }\n",
       "\n",
       "    .dataframe thead th {\n",
       "        text-align: right;\n",
       "    }\n",
       "</style>\n",
       "<table border=\"1\" class=\"dataframe\">\n",
       "  <thead>\n",
       "    <tr style=\"text-align: right;\">\n",
       "      <th></th>\n",
       "      <th>Name</th>\n",
       "    </tr>\n",
       "  </thead>\n",
       "  <tbody>\n",
       "    <tr>\n",
       "      <th>Birgit Fischer-Schmidt</th>\n",
       "      <td>12</td>\n",
       "    </tr>\n",
       "    <tr>\n",
       "      <th>Katalin Kovcs</th>\n",
       "      <td>8</td>\n",
       "    </tr>\n",
       "    <tr>\n",
       "      <th>Gert Fridolf Fredriksson</th>\n",
       "      <td>8</td>\n",
       "    </tr>\n",
       "    <tr>\n",
       "      <th>Agneta Monica Andersson</th>\n",
       "      <td>7</td>\n",
       "    </tr>\n",
       "    <tr>\n",
       "      <th>Ivan Patzaichin</th>\n",
       "      <td>7</td>\n",
       "    </tr>\n",
       "    <tr>\n",
       "      <th>...</th>\n",
       "      <td>...</td>\n",
       "    </tr>\n",
       "    <tr>\n",
       "      <th>Piotr Markiewicz</th>\n",
       "      <td>1</td>\n",
       "    </tr>\n",
       "    <tr>\n",
       "      <th>Edvinas Ramanauskas</th>\n",
       "      <td>1</td>\n",
       "    </tr>\n",
       "    <tr>\n",
       "      <th>Anatoly Kuzmich Grishin</th>\n",
       "      <td>1</td>\n",
       "    </tr>\n",
       "    <tr>\n",
       "      <th>Daniela Baumer (-Tenger)</th>\n",
       "      <td>1</td>\n",
       "    </tr>\n",
       "    <tr>\n",
       "      <th>Lars Kober</th>\n",
       "      <td>1</td>\n",
       "    </tr>\n",
       "  </tbody>\n",
       "</table>\n",
       "<p>610 rows × 1 columns</p>\n",
       "</div>"
      ],
      "text/plain": [
       "                          Name\n",
       "Birgit Fischer-Schmidt      12\n",
       "Katalin Kovcs                8\n",
       "Gert Fridolf Fredriksson     8\n",
       "Agneta Monica Andersson      7\n",
       "Ivan Patzaichin              7\n",
       "...                        ...\n",
       "Piotr Markiewicz             1\n",
       "Edvinas Ramanauskas          1\n",
       "Anatoly Kuzmich Grishin      1\n",
       "Daniela Baumer (-Tenger)     1\n",
       "Lars Kober                   1\n",
       "\n",
       "[610 rows x 1 columns]"
      ]
     },
     "execution_count": 29,
     "metadata": {},
     "output_type": "execute_result"
    }
   ],
   "source": [
    "#creating the medal frequency in a new datset\n",
    "athlete=data['Name'].value_counts()\n",
    "athletedf=pd.DataFrame(athlete)\n",
    "athletedf.iloc[0:]"
   ]
  },
  {
   "cell_type": "code",
   "execution_count": null,
   "metadata": {},
   "outputs": [],
   "source": []
  }
 ],
 "metadata": {
  "kernelspec": {
   "display_name": "Python 3",
   "language": "python",
   "name": "python3"
  },
  "language_info": {
   "codemirror_mode": {
    "name": "ipython",
    "version": 3
   },
   "file_extension": ".py",
   "mimetype": "text/x-python",
   "name": "python",
   "nbconvert_exporter": "python",
   "pygments_lexer": "ipython3",
   "version": "3.8.5"
  }
 },
 "nbformat": 4,
 "nbformat_minor": 4
}
